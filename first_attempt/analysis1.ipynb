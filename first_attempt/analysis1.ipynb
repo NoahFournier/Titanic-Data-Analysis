{
 "metadata": {
  "language_info": {
   "codemirror_mode": {
    "name": "ipython",
    "version": 3
   },
   "file_extension": ".py",
   "mimetype": "text/x-python",
   "name": "python",
   "nbconvert_exporter": "python",
   "pygments_lexer": "ipython3",
   "version": "3.8.2-final"
  },
  "orig_nbformat": 2,
  "kernelspec": {
   "name": "python38264bitenvvenv3e5bd5570a414d9eb1775809510495b8",
   "display_name": "Python 3.8.2 64-bit ('env': venv)"
  }
 },
 "nbformat": 4,
 "nbformat_minor": 2,
 "cells": [
  {
   "source": [
    "# First attempt at Titanic Dataset\n",
    "\n",
    "## Using SVM on 'Age', 'Embarked', 'Pclass' and 'Sex' features "
   ],
   "cell_type": "markdown",
   "metadata": {}
  },
  {
   "cell_type": "code",
   "execution_count": 46,
   "metadata": {},
   "outputs": [],
   "source": [
    "%matplotlib inline\n",
    "import pandas as pd\n",
    "pd.options.display.max_columns = 100\n",
    "import numpy as np\n",
    "import plotly.express as px"
   ]
  },
  {
   "source": [
    "## Loading in data"
   ],
   "cell_type": "markdown",
   "metadata": {}
  },
  {
   "cell_type": "code",
   "execution_count": 47,
   "metadata": {},
   "outputs": [
    {
     "output_type": "execute_result",
     "data": {
      "text/plain": [
       "   PassengerId  Survived  Pclass     Sex   Age Embarked\n",
       "0            1       0.0       3    male  22.0        S\n",
       "1            2       1.0       1  female  38.0        C\n",
       "2            3       1.0       3  female  26.0        S\n",
       "3            4       1.0       1  female  35.0        S\n",
       "4            5       0.0       3    male  35.0        S"
      ],
      "text/html": "<div>\n<style scoped>\n    .dataframe tbody tr th:only-of-type {\n        vertical-align: middle;\n    }\n\n    .dataframe tbody tr th {\n        vertical-align: top;\n    }\n\n    .dataframe thead th {\n        text-align: right;\n    }\n</style>\n<table border=\"1\" class=\"dataframe\">\n  <thead>\n    <tr style=\"text-align: right;\">\n      <th></th>\n      <th>PassengerId</th>\n      <th>Survived</th>\n      <th>Pclass</th>\n      <th>Sex</th>\n      <th>Age</th>\n      <th>Embarked</th>\n    </tr>\n  </thead>\n  <tbody>\n    <tr>\n      <th>0</th>\n      <td>1</td>\n      <td>0.0</td>\n      <td>3</td>\n      <td>male</td>\n      <td>22.0</td>\n      <td>S</td>\n    </tr>\n    <tr>\n      <th>1</th>\n      <td>2</td>\n      <td>1.0</td>\n      <td>1</td>\n      <td>female</td>\n      <td>38.0</td>\n      <td>C</td>\n    </tr>\n    <tr>\n      <th>2</th>\n      <td>3</td>\n      <td>1.0</td>\n      <td>3</td>\n      <td>female</td>\n      <td>26.0</td>\n      <td>S</td>\n    </tr>\n    <tr>\n      <th>3</th>\n      <td>4</td>\n      <td>1.0</td>\n      <td>1</td>\n      <td>female</td>\n      <td>35.0</td>\n      <td>S</td>\n    </tr>\n    <tr>\n      <th>4</th>\n      <td>5</td>\n      <td>0.0</td>\n      <td>3</td>\n      <td>male</td>\n      <td>35.0</td>\n      <td>S</td>\n    </tr>\n  </tbody>\n</table>\n</div>"
     },
     "metadata": {},
     "execution_count": 47
    }
   ],
   "source": [
    "chosen_features = ['Age', 'Embarked', 'Sex', 'Pclass']\n",
    "\n",
    "#Load in datasets\n",
    "train_df = pd.read_csv('../data/train.csv', usecols=['Survived', 'PassengerId'] + chosen_features)\n",
    "test_df = pd.read_csv('../data/test.csv', usecols=['PassengerId'] + chosen_features)\n",
    "\n",
    "\n",
    "#combine both data sets\n",
    "test_df['Survived'] = np.NAN \n",
    "combined = pd.concat([train_df, test_df])\n",
    "combined.head()"
   ]
  },
  {
   "cell_type": "code",
   "execution_count": 48,
   "metadata": {},
   "outputs": [
    {
     "output_type": "stream",
     "name": "stdout",
     "text": [
      "Number of missing Age values : 263\nNumber of missing Embarked values : 2\n"
     ]
    }
   ],
   "source": [
    "print('Number of missing Age values : {}'.format(combined['Age'].isnull().sum()))\n",
    "print('Number of missing Embarked values : {}'.format(combined['Embarked'].isnull().sum()))"
   ]
  },
  {
   "source": [
    "## Data Preparation : 'Embarked'"
   ],
   "cell_type": "markdown",
   "metadata": {}
  },
  {
   "cell_type": "code",
   "execution_count": 49,
   "metadata": {},
   "outputs": [],
   "source": [
    "#Low number of missing values -> statistically insignificant\n",
    "#Solution : Choose one of three unique values and insert into missing cells\n",
    "\n",
    "combined['Embarked'] = combined['Embarked'].fillna('Q')\n",
    "\n",
    "#One-Hot Encoding\n",
    "combined['ES'] = combined['Embarked'] == 'S' \n",
    "combined['EQ'] = combined['Embarked'] == 'Q'\n",
    "combined['EC'] = combined['Embarked'] == 'C'"
   ]
  },
  {
   "source": [
    "## Data Preparation : 'Age'\n",
    "\n",
    "Inspired by approach from this dataset : https://www.kaggle.com/pliptor/divide-and-conquer-0-82296"
   ],
   "cell_type": "markdown",
   "metadata": {}
  },
  {
   "cell_type": "code",
   "execution_count": 50,
   "metadata": {},
   "outputs": [
    {
     "output_type": "display_data",
     "data": {
      "application/vnd.plotly.v1+json": {
       "config": {
        "plotlyServerURL": "https://plot.ly"
       },
       "data": [
        {
         "alignmentgroup": "True",
         "bingroup": "x",
         "hovertemplate": "color=True<br>Age=%{x}<br>count=%{y}<extra></extra>",
         "legendgroup": "True",
         "marker": {
          "color": "#636efa"
         },
         "name": "True",
         "nbinsx": 150,
         "offsetgroup": "True",
         "orientation": "v",
         "showlegend": true,
         "type": "histogram",
         "x": [
          22,
          38,
          26,
          35,
          35,
          -1,
          54,
          2,
          27,
          14,
          4,
          58,
          20,
          39,
          14,
          55,
          2,
          -1,
          31,
          -1,
          35,
          34,
          15,
          28,
          8,
          38,
          -1,
          19,
          -1,
          -1,
          40,
          -1,
          -1,
          66,
          28,
          42,
          -1,
          21,
          18,
          14,
          40,
          27,
          -1,
          3,
          19,
          -1,
          -1,
          -1,
          -1,
          18,
          7,
          21,
          49,
          29,
          65,
          -1,
          21,
          28.5,
          5,
          11,
          22,
          38,
          45,
          4,
          -1,
          -1,
          29,
          19,
          17,
          26,
          32,
          16,
          21,
          26,
          32,
          25,
          -1,
          -1,
          0.83,
          30,
          22,
          29,
          -1,
          28,
          17,
          33,
          16,
          -1,
          23,
          24,
          29,
          20,
          46,
          26,
          59,
          -1,
          71,
          23,
          34,
          34,
          28,
          -1,
          21,
          33,
          37,
          28,
          21,
          -1,
          38,
          -1,
          47,
          14.5,
          22,
          20,
          17,
          21,
          70.5,
          29,
          24,
          2,
          21,
          -1,
          32.5,
          32.5,
          54,
          12,
          -1,
          24,
          -1,
          45,
          33,
          20,
          47,
          29,
          25,
          23,
          19,
          37,
          16,
          24,
          -1,
          22,
          24,
          19,
          18,
          19,
          27,
          9,
          36.5,
          42,
          51,
          22,
          55.5,
          40.5,
          -1,
          51,
          16,
          30,
          -1,
          -1,
          44,
          40,
          26,
          17,
          1,
          9,
          -1,
          45,
          -1,
          28,
          61,
          4,
          1,
          21,
          56,
          18,
          -1,
          50,
          30,
          36,
          -1,
          -1,
          9,
          1,
          4,
          -1,
          -1,
          45,
          40,
          36,
          32,
          19,
          19,
          3,
          44,
          58,
          -1,
          42,
          -1,
          24,
          28,
          -1,
          34,
          45.5,
          18,
          2,
          32,
          26,
          16,
          40,
          24,
          35,
          22,
          30,
          -1,
          31,
          27,
          42,
          32,
          30,
          16,
          27,
          51,
          -1,
          38,
          22,
          19,
          20.5,
          18,
          -1,
          35,
          29,
          59,
          5,
          24,
          -1,
          44,
          8,
          19,
          33,
          -1,
          -1,
          29,
          22,
          30,
          44,
          25,
          24,
          37,
          54,
          -1,
          29,
          62,
          30,
          41,
          29,
          -1,
          30,
          35,
          50,
          -1,
          3,
          52,
          40,
          -1,
          36,
          16,
          25,
          58,
          35,
          -1,
          25,
          41,
          37,
          -1,
          63,
          45,
          -1,
          7,
          35,
          65,
          28,
          16,
          19,
          -1,
          33,
          30,
          22,
          42,
          22,
          26,
          19,
          36,
          24,
          24,
          -1,
          23.5,
          2,
          -1,
          50,
          -1,
          -1,
          19,
          -1,
          -1,
          0.92,
          -1,
          17,
          30,
          30,
          24,
          18,
          26,
          28,
          43,
          26,
          24,
          54,
          31,
          40,
          22,
          27,
          30,
          22,
          -1,
          36,
          61,
          36,
          31,
          16,
          -1,
          45.5,
          38,
          16,
          -1,
          -1,
          29,
          41,
          45,
          45,
          2,
          24,
          28,
          25,
          36,
          24,
          40,
          -1,
          3,
          42,
          23,
          -1,
          15,
          25,
          -1,
          28,
          22,
          38,
          -1,
          -1,
          40,
          29,
          45,
          35,
          -1,
          30,
          60,
          -1,
          -1,
          24,
          25,
          18,
          19,
          22,
          3,
          -1,
          22,
          27,
          20,
          19,
          42,
          1,
          32,
          35,
          -1,
          18,
          1,
          36,
          -1,
          17,
          36,
          21,
          28,
          23,
          24,
          22,
          31,
          46,
          23,
          28,
          39,
          26,
          21,
          28,
          20,
          34,
          51,
          3,
          21,
          -1,
          -1,
          -1,
          33,
          -1,
          44,
          -1,
          34,
          18,
          30,
          10,
          -1,
          21,
          29,
          28,
          18,
          -1,
          28,
          19,
          -1,
          32,
          28,
          -1,
          42,
          17,
          50,
          14,
          21,
          24,
          64,
          31,
          45,
          20,
          25,
          28,
          -1,
          4,
          13,
          34,
          5,
          52,
          36,
          -1,
          30,
          49,
          -1,
          29,
          65,
          -1,
          50,
          -1,
          48,
          34,
          47,
          48,
          -1,
          38,
          -1,
          56,
          -1,
          0.75,
          -1,
          38,
          33,
          23,
          22,
          -1,
          34,
          29,
          22,
          2,
          9,
          -1,
          50,
          63,
          25,
          -1,
          35,
          58,
          30,
          9,
          -1,
          21,
          55,
          71,
          21,
          -1,
          54,
          -1,
          25,
          24,
          17,
          21,
          -1,
          37,
          16,
          18,
          33,
          -1,
          28,
          26,
          29,
          -1,
          36,
          54,
          24,
          47,
          34,
          -1,
          36,
          32,
          30,
          22,
          -1,
          44,
          -1,
          40.5,
          50,
          -1,
          39,
          23,
          2,
          -1,
          17,
          -1,
          30,
          7,
          45,
          30,
          -1,
          22,
          36,
          9,
          11,
          32,
          50,
          64,
          19,
          -1,
          33,
          8,
          17,
          27,
          -1,
          22,
          22,
          62,
          48,
          -1,
          39,
          36,
          -1,
          40,
          28,
          -1,
          -1,
          24,
          19,
          29,
          -1,
          32,
          62,
          53,
          36,
          -1,
          16,
          19,
          34,
          39,
          -1,
          32,
          25,
          39,
          54,
          36,
          -1,
          18,
          47,
          60,
          22,
          -1,
          35,
          52,
          47,
          -1,
          37,
          36,
          -1,
          49,
          -1,
          49,
          24,
          -1,
          -1,
          44,
          35,
          36,
          30,
          27,
          22,
          40,
          39,
          -1,
          -1,
          -1,
          35,
          24,
          34,
          26,
          4,
          26,
          27,
          42,
          20,
          21,
          21,
          61,
          57,
          21,
          26,
          -1,
          80,
          51,
          32,
          -1,
          9,
          28,
          32,
          31,
          41,
          -1,
          20,
          24,
          2,
          -1,
          0.75,
          48,
          19,
          56,
          -1,
          23,
          -1,
          18,
          21,
          -1,
          18,
          24,
          -1,
          32,
          23,
          58,
          50,
          40,
          47,
          36,
          20,
          32,
          25,
          -1,
          43,
          -1,
          40,
          31,
          70,
          31,
          -1,
          18,
          24.5,
          18,
          43,
          36,
          -1,
          27,
          20,
          14,
          60,
          25,
          14,
          19,
          18,
          15,
          31,
          4,
          -1,
          25,
          60,
          52,
          44,
          -1,
          49,
          42,
          18,
          35,
          18,
          25,
          26,
          39,
          45,
          42,
          22,
          -1,
          24,
          -1,
          48,
          29,
          52,
          19,
          38,
          27,
          -1,
          33,
          6,
          17,
          34,
          50,
          27,
          20,
          30,
          -1,
          25,
          25,
          29,
          11,
          -1,
          23,
          23,
          28.5,
          48,
          35,
          -1,
          -1,
          -1,
          36,
          21,
          24,
          31,
          70,
          16,
          30,
          19,
          31,
          4,
          6,
          33,
          23,
          48,
          0.67,
          28,
          18,
          34,
          33,
          -1,
          41,
          20,
          36,
          16,
          51,
          -1,
          30.5,
          -1,
          32,
          24,
          48,
          57,
          -1,
          54,
          18,
          -1,
          5,
          -1,
          43,
          13,
          17,
          29,
          -1,
          25,
          25,
          18,
          8,
          1,
          46,
          -1,
          16,
          -1,
          -1,
          25,
          39,
          49,
          31,
          30,
          30,
          34,
          31,
          11,
          0.42,
          27,
          31,
          39,
          18,
          39,
          33,
          26,
          39,
          35,
          6,
          30.5,
          -1,
          23,
          31,
          43,
          10,
          52,
          27,
          38,
          27,
          2,
          -1,
          -1,
          1,
          -1,
          62,
          15,
          0.83,
          -1,
          23,
          18,
          39,
          21,
          -1,
          32,
          -1,
          20,
          16,
          30,
          34.5,
          17,
          42,
          -1,
          35,
          28,
          -1,
          4,
          74,
          9,
          16,
          44,
          18,
          45,
          51,
          24,
          -1,
          41,
          21,
          48,
          -1,
          24,
          42,
          27,
          31,
          -1,
          4,
          26,
          47,
          33,
          47,
          28,
          15,
          20,
          19,
          -1,
          56,
          25,
          33,
          22,
          28,
          25,
          39,
          27,
          19,
          -1,
          26,
          32
         ],
         "xaxis": "x",
         "yaxis": "y"
        },
        {
         "alignmentgroup": "True",
         "bingroup": "x",
         "hovertemplate": "color=False<br>Age=%{x}<br>count=%{y}<extra></extra>",
         "legendgroup": "False",
         "marker": {
          "color": "#EF553B"
         },
         "name": "False",
         "nbinsx": 150,
         "offsetgroup": "False",
         "orientation": "v",
         "showlegend": true,
         "type": "histogram",
         "x": [
          34.5,
          47,
          62,
          27,
          22,
          14,
          30,
          26,
          18,
          21,
          -1,
          46,
          23,
          63,
          47,
          24,
          35,
          21,
          27,
          45,
          55,
          9,
          -1,
          21,
          48,
          50,
          22,
          22.5,
          41,
          -1,
          50,
          24,
          33,
          -1,
          30,
          18.5,
          -1,
          21,
          25,
          -1,
          39,
          -1,
          41,
          30,
          45,
          25,
          45,
          -1,
          60,
          36,
          24,
          27,
          20,
          28,
          -1,
          10,
          35,
          25,
          -1,
          36,
          17,
          32,
          18,
          22,
          13,
          -1,
          18,
          47,
          31,
          60,
          24,
          21,
          29,
          28.5,
          35,
          32.5,
          -1,
          55,
          30,
          24,
          6,
          67,
          49,
          -1,
          -1,
          -1,
          27,
          18,
          -1,
          2,
          22,
          -1,
          27,
          -1,
          25,
          25,
          76,
          29,
          20,
          33,
          43,
          27,
          -1,
          26,
          16,
          28,
          21,
          -1,
          -1,
          18.5,
          41,
          -1,
          36,
          18.5,
          63,
          18,
          -1,
          1,
          36,
          29,
          12,
          -1,
          35,
          28,
          -1,
          17,
          22,
          -1,
          42,
          24,
          32,
          53,
          -1,
          -1,
          43,
          24,
          26.5,
          26,
          23,
          40,
          10,
          33,
          61,
          28,
          42,
          31,
          -1,
          22,
          -1,
          30,
          23,
          -1,
          60.5,
          36,
          13,
          24,
          29,
          23,
          42,
          26,
          -1,
          7,
          26,
          -1,
          41,
          26,
          48,
          18,
          -1,
          22,
          -1,
          27,
          23,
          -1,
          40,
          15,
          20,
          54,
          36,
          64,
          30,
          37,
          18,
          -1,
          27,
          40,
          21,
          17,
          -1,
          40,
          34,
          -1,
          11.5,
          61,
          8,
          33,
          6,
          18,
          23,
          -1,
          -1,
          0.33,
          47,
          8,
          25,
          -1,
          35,
          24,
          33,
          25,
          32,
          -1,
          17,
          60,
          38,
          42,
          -1,
          57,
          50,
          -1,
          30,
          21,
          22,
          21,
          53,
          -1,
          23,
          -1,
          40.5,
          36,
          14,
          21,
          21,
          -1,
          39,
          20,
          64,
          20,
          18,
          48,
          55,
          45,
          45,
          -1,
          -1,
          41,
          22,
          42,
          29,
          -1,
          0.92,
          20,
          27,
          24,
          32.5,
          -1,
          -1,
          28,
          19,
          21,
          36.5,
          21,
          29,
          1,
          30,
          -1,
          -1,
          -1,
          -1,
          17,
          46,
          -1,
          26,
          -1,
          -1,
          20,
          28,
          40,
          30,
          22,
          23,
          0.75,
          -1,
          9,
          2,
          36,
          -1,
          24,
          -1,
          -1,
          -1,
          30,
          -1,
          53,
          36,
          26,
          1,
          -1,
          30,
          29,
          32,
          -1,
          43,
          24,
          -1,
          64,
          30,
          0.83,
          55,
          45,
          18,
          22,
          -1,
          37,
          55,
          17,
          57,
          19,
          27,
          22,
          26,
          25,
          26,
          33,
          39,
          23,
          12,
          46,
          29,
          21,
          48,
          39,
          -1,
          19,
          27,
          30,
          32,
          39,
          25,
          -1,
          18,
          32,
          -1,
          58,
          -1,
          16,
          26,
          38,
          24,
          31,
          45,
          25,
          18,
          49,
          0.17,
          50,
          59,
          -1,
          -1,
          30,
          14.5,
          24,
          31,
          27,
          25,
          -1,
          -1,
          22,
          45,
          29,
          21,
          31,
          49,
          44,
          54,
          45,
          22,
          21,
          55,
          5,
          -1,
          26,
          -1,
          19,
          -1,
          24,
          24,
          57,
          21,
          6,
          23,
          51,
          13,
          47,
          29,
          18,
          24,
          48,
          22,
          31,
          30,
          38,
          22,
          17,
          43,
          20,
          23,
          50,
          -1,
          3,
          -1,
          37,
          28,
          -1,
          39,
          38.5,
          -1,
          -1
         ],
         "xaxis": "x",
         "yaxis": "y"
        }
       ],
       "layout": {
        "barmode": "relative",
        "legend": {
         "title": {
          "text": "color"
         },
         "tracegroupgap": 0
        },
        "margin": {
         "t": 60
        },
        "template": {
         "data": {
          "bar": [
           {
            "error_x": {
             "color": "#2a3f5f"
            },
            "error_y": {
             "color": "#2a3f5f"
            },
            "marker": {
             "line": {
              "color": "#E5ECF6",
              "width": 0.5
             }
            },
            "type": "bar"
           }
          ],
          "barpolar": [
           {
            "marker": {
             "line": {
              "color": "#E5ECF6",
              "width": 0.5
             }
            },
            "type": "barpolar"
           }
          ],
          "carpet": [
           {
            "aaxis": {
             "endlinecolor": "#2a3f5f",
             "gridcolor": "white",
             "linecolor": "white",
             "minorgridcolor": "white",
             "startlinecolor": "#2a3f5f"
            },
            "baxis": {
             "endlinecolor": "#2a3f5f",
             "gridcolor": "white",
             "linecolor": "white",
             "minorgridcolor": "white",
             "startlinecolor": "#2a3f5f"
            },
            "type": "carpet"
           }
          ],
          "choropleth": [
           {
            "colorbar": {
             "outlinewidth": 0,
             "ticks": ""
            },
            "type": "choropleth"
           }
          ],
          "contour": [
           {
            "colorbar": {
             "outlinewidth": 0,
             "ticks": ""
            },
            "colorscale": [
             [
              0,
              "#0d0887"
             ],
             [
              0.1111111111111111,
              "#46039f"
             ],
             [
              0.2222222222222222,
              "#7201a8"
             ],
             [
              0.3333333333333333,
              "#9c179e"
             ],
             [
              0.4444444444444444,
              "#bd3786"
             ],
             [
              0.5555555555555556,
              "#d8576b"
             ],
             [
              0.6666666666666666,
              "#ed7953"
             ],
             [
              0.7777777777777778,
              "#fb9f3a"
             ],
             [
              0.8888888888888888,
              "#fdca26"
             ],
             [
              1,
              "#f0f921"
             ]
            ],
            "type": "contour"
           }
          ],
          "contourcarpet": [
           {
            "colorbar": {
             "outlinewidth": 0,
             "ticks": ""
            },
            "type": "contourcarpet"
           }
          ],
          "heatmap": [
           {
            "colorbar": {
             "outlinewidth": 0,
             "ticks": ""
            },
            "colorscale": [
             [
              0,
              "#0d0887"
             ],
             [
              0.1111111111111111,
              "#46039f"
             ],
             [
              0.2222222222222222,
              "#7201a8"
             ],
             [
              0.3333333333333333,
              "#9c179e"
             ],
             [
              0.4444444444444444,
              "#bd3786"
             ],
             [
              0.5555555555555556,
              "#d8576b"
             ],
             [
              0.6666666666666666,
              "#ed7953"
             ],
             [
              0.7777777777777778,
              "#fb9f3a"
             ],
             [
              0.8888888888888888,
              "#fdca26"
             ],
             [
              1,
              "#f0f921"
             ]
            ],
            "type": "heatmap"
           }
          ],
          "heatmapgl": [
           {
            "colorbar": {
             "outlinewidth": 0,
             "ticks": ""
            },
            "colorscale": [
             [
              0,
              "#0d0887"
             ],
             [
              0.1111111111111111,
              "#46039f"
             ],
             [
              0.2222222222222222,
              "#7201a8"
             ],
             [
              0.3333333333333333,
              "#9c179e"
             ],
             [
              0.4444444444444444,
              "#bd3786"
             ],
             [
              0.5555555555555556,
              "#d8576b"
             ],
             [
              0.6666666666666666,
              "#ed7953"
             ],
             [
              0.7777777777777778,
              "#fb9f3a"
             ],
             [
              0.8888888888888888,
              "#fdca26"
             ],
             [
              1,
              "#f0f921"
             ]
            ],
            "type": "heatmapgl"
           }
          ],
          "histogram": [
           {
            "marker": {
             "colorbar": {
              "outlinewidth": 0,
              "ticks": ""
             }
            },
            "type": "histogram"
           }
          ],
          "histogram2d": [
           {
            "colorbar": {
             "outlinewidth": 0,
             "ticks": ""
            },
            "colorscale": [
             [
              0,
              "#0d0887"
             ],
             [
              0.1111111111111111,
              "#46039f"
             ],
             [
              0.2222222222222222,
              "#7201a8"
             ],
             [
              0.3333333333333333,
              "#9c179e"
             ],
             [
              0.4444444444444444,
              "#bd3786"
             ],
             [
              0.5555555555555556,
              "#d8576b"
             ],
             [
              0.6666666666666666,
              "#ed7953"
             ],
             [
              0.7777777777777778,
              "#fb9f3a"
             ],
             [
              0.8888888888888888,
              "#fdca26"
             ],
             [
              1,
              "#f0f921"
             ]
            ],
            "type": "histogram2d"
           }
          ],
          "histogram2dcontour": [
           {
            "colorbar": {
             "outlinewidth": 0,
             "ticks": ""
            },
            "colorscale": [
             [
              0,
              "#0d0887"
             ],
             [
              0.1111111111111111,
              "#46039f"
             ],
             [
              0.2222222222222222,
              "#7201a8"
             ],
             [
              0.3333333333333333,
              "#9c179e"
             ],
             [
              0.4444444444444444,
              "#bd3786"
             ],
             [
              0.5555555555555556,
              "#d8576b"
             ],
             [
              0.6666666666666666,
              "#ed7953"
             ],
             [
              0.7777777777777778,
              "#fb9f3a"
             ],
             [
              0.8888888888888888,
              "#fdca26"
             ],
             [
              1,
              "#f0f921"
             ]
            ],
            "type": "histogram2dcontour"
           }
          ],
          "mesh3d": [
           {
            "colorbar": {
             "outlinewidth": 0,
             "ticks": ""
            },
            "type": "mesh3d"
           }
          ],
          "parcoords": [
           {
            "line": {
             "colorbar": {
              "outlinewidth": 0,
              "ticks": ""
             }
            },
            "type": "parcoords"
           }
          ],
          "pie": [
           {
            "automargin": true,
            "type": "pie"
           }
          ],
          "scatter": [
           {
            "marker": {
             "colorbar": {
              "outlinewidth": 0,
              "ticks": ""
             }
            },
            "type": "scatter"
           }
          ],
          "scatter3d": [
           {
            "line": {
             "colorbar": {
              "outlinewidth": 0,
              "ticks": ""
             }
            },
            "marker": {
             "colorbar": {
              "outlinewidth": 0,
              "ticks": ""
             }
            },
            "type": "scatter3d"
           }
          ],
          "scattercarpet": [
           {
            "marker": {
             "colorbar": {
              "outlinewidth": 0,
              "ticks": ""
             }
            },
            "type": "scattercarpet"
           }
          ],
          "scattergeo": [
           {
            "marker": {
             "colorbar": {
              "outlinewidth": 0,
              "ticks": ""
             }
            },
            "type": "scattergeo"
           }
          ],
          "scattergl": [
           {
            "marker": {
             "colorbar": {
              "outlinewidth": 0,
              "ticks": ""
             }
            },
            "type": "scattergl"
           }
          ],
          "scattermapbox": [
           {
            "marker": {
             "colorbar": {
              "outlinewidth": 0,
              "ticks": ""
             }
            },
            "type": "scattermapbox"
           }
          ],
          "scatterpolar": [
           {
            "marker": {
             "colorbar": {
              "outlinewidth": 0,
              "ticks": ""
             }
            },
            "type": "scatterpolar"
           }
          ],
          "scatterpolargl": [
           {
            "marker": {
             "colorbar": {
              "outlinewidth": 0,
              "ticks": ""
             }
            },
            "type": "scatterpolargl"
           }
          ],
          "scatterternary": [
           {
            "marker": {
             "colorbar": {
              "outlinewidth": 0,
              "ticks": ""
             }
            },
            "type": "scatterternary"
           }
          ],
          "surface": [
           {
            "colorbar": {
             "outlinewidth": 0,
             "ticks": ""
            },
            "colorscale": [
             [
              0,
              "#0d0887"
             ],
             [
              0.1111111111111111,
              "#46039f"
             ],
             [
              0.2222222222222222,
              "#7201a8"
             ],
             [
              0.3333333333333333,
              "#9c179e"
             ],
             [
              0.4444444444444444,
              "#bd3786"
             ],
             [
              0.5555555555555556,
              "#d8576b"
             ],
             [
              0.6666666666666666,
              "#ed7953"
             ],
             [
              0.7777777777777778,
              "#fb9f3a"
             ],
             [
              0.8888888888888888,
              "#fdca26"
             ],
             [
              1,
              "#f0f921"
             ]
            ],
            "type": "surface"
           }
          ],
          "table": [
           {
            "cells": {
             "fill": {
              "color": "#EBF0F8"
             },
             "line": {
              "color": "white"
             }
            },
            "header": {
             "fill": {
              "color": "#C8D4E3"
             },
             "line": {
              "color": "white"
             }
            },
            "type": "table"
           }
          ]
         },
         "layout": {
          "annotationdefaults": {
           "arrowcolor": "#2a3f5f",
           "arrowhead": 0,
           "arrowwidth": 1
          },
          "coloraxis": {
           "colorbar": {
            "outlinewidth": 0,
            "ticks": ""
           }
          },
          "colorscale": {
           "diverging": [
            [
             0,
             "#8e0152"
            ],
            [
             0.1,
             "#c51b7d"
            ],
            [
             0.2,
             "#de77ae"
            ],
            [
             0.3,
             "#f1b6da"
            ],
            [
             0.4,
             "#fde0ef"
            ],
            [
             0.5,
             "#f7f7f7"
            ],
            [
             0.6,
             "#e6f5d0"
            ],
            [
             0.7,
             "#b8e186"
            ],
            [
             0.8,
             "#7fbc41"
            ],
            [
             0.9,
             "#4d9221"
            ],
            [
             1,
             "#276419"
            ]
           ],
           "sequential": [
            [
             0,
             "#0d0887"
            ],
            [
             0.1111111111111111,
             "#46039f"
            ],
            [
             0.2222222222222222,
             "#7201a8"
            ],
            [
             0.3333333333333333,
             "#9c179e"
            ],
            [
             0.4444444444444444,
             "#bd3786"
            ],
            [
             0.5555555555555556,
             "#d8576b"
            ],
            [
             0.6666666666666666,
             "#ed7953"
            ],
            [
             0.7777777777777778,
             "#fb9f3a"
            ],
            [
             0.8888888888888888,
             "#fdca26"
            ],
            [
             1,
             "#f0f921"
            ]
           ],
           "sequentialminus": [
            [
             0,
             "#0d0887"
            ],
            [
             0.1111111111111111,
             "#46039f"
            ],
            [
             0.2222222222222222,
             "#7201a8"
            ],
            [
             0.3333333333333333,
             "#9c179e"
            ],
            [
             0.4444444444444444,
             "#bd3786"
            ],
            [
             0.5555555555555556,
             "#d8576b"
            ],
            [
             0.6666666666666666,
             "#ed7953"
            ],
            [
             0.7777777777777778,
             "#fb9f3a"
            ],
            [
             0.8888888888888888,
             "#fdca26"
            ],
            [
             1,
             "#f0f921"
            ]
           ]
          },
          "colorway": [
           "#636efa",
           "#EF553B",
           "#00cc96",
           "#ab63fa",
           "#FFA15A",
           "#19d3f3",
           "#FF6692",
           "#B6E880",
           "#FF97FF",
           "#FECB52"
          ],
          "font": {
           "color": "#2a3f5f"
          },
          "geo": {
           "bgcolor": "white",
           "lakecolor": "white",
           "landcolor": "#E5ECF6",
           "showlakes": true,
           "showland": true,
           "subunitcolor": "white"
          },
          "hoverlabel": {
           "align": "left"
          },
          "hovermode": "closest",
          "mapbox": {
           "style": "light"
          },
          "paper_bgcolor": "white",
          "plot_bgcolor": "#E5ECF6",
          "polar": {
           "angularaxis": {
            "gridcolor": "white",
            "linecolor": "white",
            "ticks": ""
           },
           "bgcolor": "#E5ECF6",
           "radialaxis": {
            "gridcolor": "white",
            "linecolor": "white",
            "ticks": ""
           }
          },
          "scene": {
           "xaxis": {
            "backgroundcolor": "#E5ECF6",
            "gridcolor": "white",
            "gridwidth": 2,
            "linecolor": "white",
            "showbackground": true,
            "ticks": "",
            "zerolinecolor": "white"
           },
           "yaxis": {
            "backgroundcolor": "#E5ECF6",
            "gridcolor": "white",
            "gridwidth": 2,
            "linecolor": "white",
            "showbackground": true,
            "ticks": "",
            "zerolinecolor": "white"
           },
           "zaxis": {
            "backgroundcolor": "#E5ECF6",
            "gridcolor": "white",
            "gridwidth": 2,
            "linecolor": "white",
            "showbackground": true,
            "ticks": "",
            "zerolinecolor": "white"
           }
          },
          "shapedefaults": {
           "line": {
            "color": "#2a3f5f"
           }
          },
          "ternary": {
           "aaxis": {
            "gridcolor": "white",
            "linecolor": "white",
            "ticks": ""
           },
           "baxis": {
            "gridcolor": "white",
            "linecolor": "white",
            "ticks": ""
           },
           "bgcolor": "#E5ECF6",
           "caxis": {
            "gridcolor": "white",
            "linecolor": "white",
            "ticks": ""
           }
          },
          "title": {
           "x": 0.05
          },
          "xaxis": {
           "automargin": true,
           "gridcolor": "white",
           "linecolor": "white",
           "ticks": "",
           "title": {
            "standoff": 15
           },
           "zerolinecolor": "white",
           "zerolinewidth": 2
          },
          "yaxis": {
           "automargin": true,
           "gridcolor": "white",
           "linecolor": "white",
           "ticks": "",
           "title": {
            "standoff": 15
           },
           "zerolinecolor": "white",
           "zerolinewidth": 2
          }
         }
        },
        "xaxis": {
         "anchor": "y",
         "domain": [
          0,
          1
         ],
         "title": {
          "text": "Age"
         }
        },
        "yaxis": {
         "anchor": "x",
         "domain": [
          0,
          1
         ],
         "title": {
          "text": "count"
         }
        }
       }
      }
     },
     "metadata": {}
    }
   ],
   "source": [
    "#Create new column with missing Age rows\n",
    "\n",
    "combined['Age_missing'] = combined['Age'] == np.NAN\n",
    "combined['Age'] = combined['Age'].fillna(-1)\n",
    "\n",
    "fig = px.histogram(combined, x=combined['Age'], color=combined['Survived'].notna(), nbins=150)\n",
    "fig.show()\n",
    "\n",
    "#Create Minor feature\n",
    "combined['Minor'] = (combined['Age']<14.0)&(combined['Age']>=0)"
   ]
  },
  {
   "source": [
    "## Data Preparation : 'Pclass'"
   ],
   "cell_type": "markdown",
   "metadata": {}
  },
  {
   "cell_type": "code",
   "execution_count": 51,
   "metadata": {},
   "outputs": [],
   "source": [
    "#One-Hot Encoding for Pclass\n",
    "\n",
    "combined['P1'] = combined['Pclass'] == 1 \n",
    "combined['P2'] = combined['Pclass'] == 2\n",
    "combined['P3'] = combined['Pclass'] == 3"
   ]
  },
  {
   "source": [
    "## Data Preparation : 'Sex'"
   ],
   "cell_type": "markdown",
   "metadata": {}
  },
  {
   "cell_type": "code",
   "execution_count": 52,
   "metadata": {},
   "outputs": [],
   "source": [
    "#Mapping values in 'Sex'\n",
    "\n",
    "combined['Sex'] = combined['Sex'].map({'male': 0, 'female': 1})"
   ]
  },
  {
   "source": [
    "## Final Data Prep"
   ],
   "cell_type": "markdown",
   "metadata": {}
  },
  {
   "cell_type": "code",
   "execution_count": 53,
   "metadata": {},
   "outputs": [
    {
     "output_type": "execute_result",
     "data": {
      "text/plain": [
       "   PassengerId  Survived  Sex     ES     EQ     EC  Age_missing  Minor     P1  \\\n",
       "0            1       0.0    0   True  False  False        False  False  False   \n",
       "1            2       1.0    1  False  False   True        False  False   True   \n",
       "2            3       1.0    1   True  False  False        False  False  False   \n",
       "3            4       1.0    1   True  False  False        False  False   True   \n",
       "4            5       0.0    0   True  False  False        False  False  False   \n",
       "\n",
       "      P2     P3  \n",
       "0  False   True  \n",
       "1  False  False  \n",
       "2  False   True  \n",
       "3  False  False  \n",
       "4  False   True  "
      ],
      "text/html": "<div>\n<style scoped>\n    .dataframe tbody tr th:only-of-type {\n        vertical-align: middle;\n    }\n\n    .dataframe tbody tr th {\n        vertical-align: top;\n    }\n\n    .dataframe thead th {\n        text-align: right;\n    }\n</style>\n<table border=\"1\" class=\"dataframe\">\n  <thead>\n    <tr style=\"text-align: right;\">\n      <th></th>\n      <th>PassengerId</th>\n      <th>Survived</th>\n      <th>Sex</th>\n      <th>ES</th>\n      <th>EQ</th>\n      <th>EC</th>\n      <th>Age_missing</th>\n      <th>Minor</th>\n      <th>P1</th>\n      <th>P2</th>\n      <th>P3</th>\n    </tr>\n  </thead>\n  <tbody>\n    <tr>\n      <th>0</th>\n      <td>1</td>\n      <td>0.0</td>\n      <td>0</td>\n      <td>True</td>\n      <td>False</td>\n      <td>False</td>\n      <td>False</td>\n      <td>False</td>\n      <td>False</td>\n      <td>False</td>\n      <td>True</td>\n    </tr>\n    <tr>\n      <th>1</th>\n      <td>2</td>\n      <td>1.0</td>\n      <td>1</td>\n      <td>False</td>\n      <td>False</td>\n      <td>True</td>\n      <td>False</td>\n      <td>False</td>\n      <td>True</td>\n      <td>False</td>\n      <td>False</td>\n    </tr>\n    <tr>\n      <th>2</th>\n      <td>3</td>\n      <td>1.0</td>\n      <td>1</td>\n      <td>True</td>\n      <td>False</td>\n      <td>False</td>\n      <td>False</td>\n      <td>False</td>\n      <td>False</td>\n      <td>False</td>\n      <td>True</td>\n    </tr>\n    <tr>\n      <th>3</th>\n      <td>4</td>\n      <td>1.0</td>\n      <td>1</td>\n      <td>True</td>\n      <td>False</td>\n      <td>False</td>\n      <td>False</td>\n      <td>False</td>\n      <td>True</td>\n      <td>False</td>\n      <td>False</td>\n    </tr>\n    <tr>\n      <th>4</th>\n      <td>5</td>\n      <td>0.0</td>\n      <td>0</td>\n      <td>True</td>\n      <td>False</td>\n      <td>False</td>\n      <td>False</td>\n      <td>False</td>\n      <td>False</td>\n      <td>False</td>\n      <td>True</td>\n    </tr>\n  </tbody>\n</table>\n</div>"
     },
     "metadata": {},
     "execution_count": 53
    }
   ],
   "source": [
    "#drop unnecessary columns\n",
    "\n",
    "combined = combined.drop(columns=['Pclass', 'Embarked', 'Age'])\n",
    "combined.head()"
   ]
  },
  {
   "cell_type": "code",
   "execution_count": 54,
   "metadata": {},
   "outputs": [
    {
     "output_type": "stream",
     "name": "stdout",
     "text": [
      "Training data shape : (891, 11)\nTest data shape : (418, 11)\n"
     ]
    }
   ],
   "source": [
    "train_df = combined.loc[combined['Survived'].isin([np.NAN]) == False]\n",
    "test_df = combined.loc[combined['Survived'].isin([np.NAN]) == True]\n",
    "\n",
    "print('Training data shape : {}'.format(train_df.shape))\n",
    "print('Test data shape : {}'.format(test_df.shape))"
   ]
  },
  {
   "source": [
    "## Modelling"
   ],
   "cell_type": "markdown",
   "metadata": {}
  },
  {
   "cell_type": "code",
   "execution_count": 55,
   "metadata": {},
   "outputs": [],
   "source": [
    "from sklearn.model_selection import GridSearchCV\n",
    "from sklearn.svm import SVC"
   ]
  },
  {
   "cell_type": "code",
   "execution_count": 68,
   "metadata": {},
   "outputs": [
    {
     "output_type": "execute_result",
     "data": {
      "text/plain": [
       "GridSearchCV(cv=10, estimator=SVC(), param_grid={'C': [1, 2, 5, 10, 20, 50]})"
      ]
     },
     "metadata": {},
     "execution_count": 68
    }
   ],
   "source": [
    "model = SVC()\n",
    "\n",
    "feature_names = ['Sex','P1','P2','P3','EQ','ES','EC','Age_missing','Minor']\n",
    "\n",
    "#Using grid search to find best value for regularization parameter, C\n",
    "\n",
    "param_grid = {\n",
    "    'C': [1, 2, 5, 10, 20, 50]\n",
    "}\n",
    "\n",
    "#Using 10 K-Fold\n",
    "grid_search = GridSearchCV(\n",
    "    model,\n",
    "    param_grid=param_grid,\n",
    "    cv=10,\n",
    ")\n",
    "\n",
    "grid_search.fit(\n",
    "    np.array(train_df[feature_names]), \n",
    "    np.array(train_df['Survived'])\n",
    ")"
   ]
  },
  {
   "cell_type": "code",
   "execution_count": 69,
   "metadata": {},
   "outputs": [
    {
     "output_type": "stream",
     "name": "stdout",
     "text": [
      "Best C value : {'C': 1}\nModel accuracy on unseen data : 0.8238\n"
     ]
    }
   ],
   "source": [
    "#Results\n",
    "print('Best C value : {}'.format(grid_search.best_params_))\n",
    "grid_results = pd.DataFrame(grid_search.cv_results_)\n",
    "print('Model accuracy on unseen data : {0:1.4f}'.format(grid_results['mean_test_score'][grid_search.best_index_]))"
   ]
  },
  {
   "cell_type": "code",
   "execution_count": 71,
   "metadata": {},
   "outputs": [
    {
     "output_type": "execute_result",
     "data": {
      "text/plain": [
       "   PassengerId  Survived\n",
       "0          892       0.0\n",
       "1          893       0.0\n",
       "2          894       0.0\n",
       "3          895       0.0\n",
       "4          896       0.0"
      ],
      "text/html": "<div>\n<style scoped>\n    .dataframe tbody tr th:only-of-type {\n        vertical-align: middle;\n    }\n\n    .dataframe tbody tr th {\n        vertical-align: top;\n    }\n\n    .dataframe thead th {\n        text-align: right;\n    }\n</style>\n<table border=\"1\" class=\"dataframe\">\n  <thead>\n    <tr style=\"text-align: right;\">\n      <th></th>\n      <th>PassengerId</th>\n      <th>Survived</th>\n    </tr>\n  </thead>\n  <tbody>\n    <tr>\n      <th>0</th>\n      <td>892</td>\n      <td>0.0</td>\n    </tr>\n    <tr>\n      <th>1</th>\n      <td>893</td>\n      <td>0.0</td>\n    </tr>\n    <tr>\n      <th>2</th>\n      <td>894</td>\n      <td>0.0</td>\n    </tr>\n    <tr>\n      <th>3</th>\n      <td>895</td>\n      <td>0.0</td>\n    </tr>\n    <tr>\n      <th>4</th>\n      <td>896</td>\n      <td>0.0</td>\n    </tr>\n  </tbody>\n</table>\n</div>"
     },
     "metadata": {},
     "execution_count": 71
    }
   ],
   "source": [
    "#Prediction\n",
    "pred = grid_search.predict(np.array(test_df[feature_names]))\n",
    "\n",
    "submission = pd.DataFrame({'PassengerId':test_df['PassengerId'],'Survived':pred})\n",
    "submission.to_csv('FirstAttempt.csv', index = False, float_format='%1d')\n",
    "submission.head()"
   ]
  },
  {
   "source": [
    "## Public Score obtained : 0.78708"
   ],
   "cell_type": "markdown",
   "metadata": {}
  }
 ]
}